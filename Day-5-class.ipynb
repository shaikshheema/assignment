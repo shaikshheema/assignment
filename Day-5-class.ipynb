{
 "cells": [
  {
   "cell_type": "markdown",
   "id": "318c3336-c3a6-4a6a-8018-d69be5e72572",
   "metadata": {},
   "source": [
    "num = 6\n",
    "if num % 2 == 0:\n",
    "\n"
   ]
  },
  {
   "cell_type": "code",
   "execution_count": 1,
   "id": "edffa268-2547-4ff4-ac05-5192ec165e09",
   "metadata": {},
   "outputs": [
    {
     "name": "stdout",
     "output_type": "stream",
     "text": [
      "even\n"
     ]
    }
   ],
   "source": [
    "num = 6\n",
    "if num % 2 == 0:\n",
    "    print(\"even\")\n",
    "else:\n",
    "    print(\"odd\")"
   ]
  },
  {
   "cell_type": "code",
   "execution_count": 3,
   "id": "57f2cc5b-41bd-4e36-9a02-2951fc27f85b",
   "metadata": {},
   "outputs": [
    {
     "name": "stdout",
     "output_type": "stream",
     "text": [
      "even\n"
     ]
    }
   ],
   "source": [
    "print(\"even\") if num % 2 == 0 else print(\"odd\")"
   ]
  },
  {
   "cell_type": "code",
   "execution_count": 15,
   "id": "317fb535-d7f9-4139-b120-5181db93dc14",
   "metadata": {},
   "outputs": [
    {
     "name": "stdin",
     "output_type": "stream",
     "text": [
      "Enter nunber:  48\n"
     ]
    },
    {
     "name": "stdout",
     "output_type": "stream",
     "text": [
      "even\n"
     ]
    }
   ],
   "source": [
    "num = int(input(\"Enter nunber: \"))\n",
    "if num % 2 == 0:\n",
    "    print(\"even\")\n",
    "else:\n",
    "    print(\"odd\")"
   ]
  },
  {
   "cell_type": "code",
   "execution_count": 11,
   "id": "ef79b920-fbc6-4793-ae23-d61afa747982",
   "metadata": {},
   "outputs": [
    {
     "name": "stdout",
     "output_type": "stream",
     "text": [
      "Positive\n"
     ]
    }
   ],
   "source": [
    "x = 10\n",
    "result = \"Positive\" if x > 0 else print(\"negative\")\n",
    "print(result)"
   ]
  },
  {
   "cell_type": "code",
   "execution_count": 13,
   "id": "382e2e9e-c043-4f43-8a84-3ecf86d1bb4f",
   "metadata": {},
   "outputs": [
    {
     "name": "stdout",
     "output_type": "stream",
     "text": [
      "Adult\n"
     ]
    }
   ],
   "source": [
    "age = 18\n",
    "category = \"Adult\" if age >= 18 else print(\"child\")\n",
    "print(category)"
   ]
  },
  {
   "cell_type": "code",
   "execution_count": 19,
   "id": "2bd47014-2b58-4a8a-98c4-61f3e12610b3",
   "metadata": {},
   "outputs": [
    {
     "name": "stdin",
     "output_type": "stream",
     "text": [
      "Enter nunber:  48\n"
     ]
    },
    {
     "name": "stdout",
     "output_type": "stream",
     "text": [
      "Positive\n"
     ]
    }
   ],
   "source": [
    "num = int(input(\"Enter nunber: \"))\n",
    "result = \"Positive\" if num > 0 else (\"Negative\" if num < 0 else zero)\n",
    "print(result)"
   ]
  },
  {
   "cell_type": "code",
   "execution_count": 21,
   "id": "4b9542db-8c3c-4df2-8ee1-c0b6f03bb144",
   "metadata": {},
   "outputs": [
    {
     "data": {
      "text/plain": [
       "[2, 18, 4, 20, 112, 178]"
      ]
     },
     "execution_count": 21,
     "metadata": {},
     "output_type": "execute_result"
    }
   ],
   "source": [
    "L = [1,9,2,10,56,89]\n",
    "[2*x for x in L]"
   ]
  },
  {
   "cell_type": "code",
   "execution_count": 23,
   "id": "b8eb0761-f173-424d-8c8f-e88857c59c3c",
   "metadata": {},
   "outputs": [
    {
     "data": {
      "text/plain": [
       "[2, 10, 56]"
      ]
     },
     "execution_count": 23,
     "metadata": {},
     "output_type": "execute_result"
    }
   ],
   "source": [
    "# print even numbers\n",
    "L = [1,9,2,10,56,89]\n",
    "[x for x in L if x%2 == 0]"
   ]
  },
  {
   "cell_type": "code",
   "execution_count": 25,
   "id": "43c4fb5f-6d3b-45a2-b1ff-bb5afc9020fa",
   "metadata": {},
   "outputs": [
    {
     "data": {
      "text/plain": [
       "[1, 9, 89]"
      ]
     },
     "execution_count": 25,
     "metadata": {},
     "output_type": "execute_result"
    }
   ],
   "source": [
    "# print even numbers\n",
    "L = [1,9,2,10,56,89]\n",
    "[x for x in L if x%2 != 0]"
   ]
  },
  {
   "cell_type": "code",
   "execution_count": 31,
   "id": "4d641807-4377-4413-b0ae-c98290fe7c88",
   "metadata": {},
   "outputs": [
    {
     "data": {
      "text/plain": [
       "[48000.0, 60000.0, 80000, 54000.0]"
      ]
     },
     "execution_count": 31,
     "metadata": {},
     "output_type": "execute_result"
    }
   ],
   "source": [
    "#print updated salaries\n",
    "#condition is give 20% hike for salaries <= 50000\n",
    "sal = [40000, 50000, 80000, 45000]\n",
    "[(x*1.2 if x <= 50000 else x) for x in sal]\n"
   ]
  },
  {
   "cell_type": "code",
   "execution_count": 33,
   "id": "84638ad2-0610-41e6-8492-ccef4f410a93",
   "metadata": {},
   "outputs": [
    {
     "data": {
      "text/plain": [
       "{'Ram': [70, 71, 98, 100], 'John': [56, 98, 67, 65]}"
      ]
     },
     "execution_count": 33,
     "metadata": {},
     "output_type": "execute_result"
    }
   ],
   "source": [
    "#Dictionary comprehension\n",
    "d1 = {'Ram':[70,71,98,100], 'John':[56,98,67,65]}\n",
    "d1"
   ]
  },
  {
   "cell_type": "code",
   "execution_count": 35,
   "id": "a1b06fc2-0212-491e-99ad-943870dddc05",
   "metadata": {},
   "outputs": [
    {
     "data": {
      "text/plain": [
       "{'Ram': 84.75, 'John': 71.5}"
      ]
     },
     "execution_count": 35,
     "metadata": {},
     "output_type": "execute_result"
    }
   ],
   "source": [
    "{k:sum(v)/len(v) for k,v in d1.items()}"
   ]
  },
  {
   "cell_type": "code",
   "execution_count": 47,
   "id": "3464dc86-1e70-45fd-845d-4415f2dd72fe",
   "metadata": {},
   "outputs": [],
   "source": [
    "#define function (reusable)\n",
    "def mean_value(given_list):\n",
    "    total = sum(given_list)\n",
    "    average_value = total/len(given_list)\n",
    "    return average_value"
   ]
  },
  {
   "cell_type": "code",
   "execution_count": 49,
   "id": "1c7c90c3-a7a3-4444-bb77-473007b970b3",
   "metadata": {},
   "outputs": [
    {
     "data": {
      "text/plain": [
       "5.211111111111111"
      ]
     },
     "execution_count": 49,
     "metadata": {},
     "output_type": "execute_result"
    }
   ],
   "source": [
    "L = [1,2,3,4,5,6,7,8.9,10]\n",
    "mean_value(L)"
   ]
  },
  {
   "cell_type": "code",
   "execution_count": 65,
   "id": "04b457ba-76cf-4553-bc72-9deaf9d1a99f",
   "metadata": {},
   "outputs": [
    {
     "name": "stdout",
     "output_type": "stream",
     "text": [
      "Good morning Shheema!\n"
     ]
    }
   ],
   "source": [
    "def greet(name):\n",
    "    print(f\"Good morning {name}!\")\n",
    "greet(\"Shheema\")"
   ]
  },
  {
   "cell_type": "code",
   "execution_count": 69,
   "id": "533a8d5a-02c7-4031-b8f0-f02d54e1bfbc",
   "metadata": {},
   "outputs": [
    {
     "name": "stdout",
     "output_type": "stream",
     "text": [
      "Good morning Waste fellow!\n"
     ]
    }
   ],
   "source": [
    "def greet(name = \"shheema\"):\n",
    "    print(f\"Good morning {name}!\")\n",
    "greet(\"Waste fellow\")\n",
    "    "
   ]
  },
  {
   "cell_type": "code",
   "execution_count": 73,
   "id": "541a85b5-7b6b-4283-b4fb-6ddca72cf7ae",
   "metadata": {},
   "outputs": [
    {
     "data": {
      "text/plain": [
       "180.0"
      ]
     },
     "execution_count": 73,
     "metadata": {},
     "output_type": "execute_result"
    }
   ],
   "source": [
    "#function with variable number of arguments\n",
    "def avg_value(*n):\n",
    "    l = len(n)\n",
    "    average = sum(n)/1\n",
    "    return average\n",
    "avg_value(10,20, 60,90)"
   ]
  },
  {
   "cell_type": "code",
   "execution_count": null,
   "id": "a5040df4-6d38-439e-a460-a5a480320f49",
   "metadata": {},
   "outputs": [],
   "source": []
  }
 ],
 "metadata": {
  "kernelspec": {
   "display_name": "Python [conda env:base] *",
   "language": "python",
   "name": "conda-base-py"
  },
  "language_info": {
   "codemirror_mode": {
    "name": "ipython",
    "version": 3
   },
   "file_extension": ".py",
   "mimetype": "text/x-python",
   "name": "python",
   "nbconvert_exporter": "python",
   "pygments_lexer": "ipython3",
   "version": "3.12.7"
  }
 },
 "nbformat": 4,
 "nbformat_minor": 5
}
